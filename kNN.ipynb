{
 "cells": [
  {
   "cell_type": "code",
   "execution_count": 33,
   "metadata": {
    "collapsed": true
   },
   "outputs": [],
   "source": [
    "import math\n",
    "\n",
    "def norm(a, b):\n",
    "    sum = 0\n",
    "    for i in range(len(a)):\n",
    "        sum += pow(a[i] - b[i], 2)\n",
    "    return math.sqrt(sum)\n",
    "\n",
    "def euc_distance(a, b):\n",
    "    return norm(a, b)\n",
    "\n",
    "def closest(trainSet, trainLabels, row):\n",
    "    dists = [euc_distance(row, item) for item in trainSet]\n",
    "    nei = dists.index(min(dists))\n",
    "    return trainLabels[nei]\n",
    "\n",
    "def kClosest(trainSet, trainLabels, row, k):\n",
    "    labels = list(trainLabels)\n",
    "    dists = [euc_distance(row, item) for item in trainSet]\n",
    "    kclosest = []\n",
    "    for i in range(k):\n",
    "        nei = dists.index(min(dists))\n",
    "        kclosest.append(labels[nei])\n",
    "        del dists[nei]\n",
    "        del labels[nei]\n",
    "    return kclosest\n",
    "\n",
    "def predict(trainSet, trainLabels, to_classify, k):\n",
    "    predictions = []\n",
    "    for row in to_classify:\n",
    "        labels = kClosest(trainSet, trainLabels, row, k)\n",
    "        predictions.append(max(set(labels), key=labels.count))\n",
    "    return predictions"
   ]
  },
  {
   "cell_type": "code",
   "execution_count": 37,
   "metadata": {},
   "outputs": [],
   "source": [
    "trainSet = [[1, 1, 1], [1.5, 1.5, 1.5], [2, 2, 2], [4, 4, 4]]\n",
    "trainLabels = ['A', 'A', 'B', 'B']"
   ]
  },
  {
   "cell_type": "code",
   "execution_count": 38,
   "metadata": {},
   "outputs": [
    {
     "data": {
      "text/plain": [
       "['B', 'A']"
      ]
     },
     "execution_count": 38,
     "metadata": {},
     "output_type": "execute_result"
    }
   ],
   "source": [
    "testSet = [[2.75, 2.75, 2.75], [1.75, 1.75, 1.75]]\n",
    "predict(trainSet, trainLabels, testSet, 3)"
   ]
  }
 ],
 "metadata": {
  "kernelspec": {
   "display_name": "Python 3",
   "language": "python",
   "name": "python3"
  },
  "language_info": {
   "codemirror_mode": {
    "name": "ipython",
    "version": 3
   },
   "file_extension": ".py",
   "mimetype": "text/x-python",
   "name": "python",
   "nbconvert_exporter": "python",
   "pygments_lexer": "ipython3",
   "version": "3.6.3"
  }
 },
 "nbformat": 4,
 "nbformat_minor": 2
}
